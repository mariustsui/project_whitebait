{
 "cells": [
  {
   "cell_type": "code",
   "execution_count": 1,
   "id": "cc72262b",
   "metadata": {},
   "outputs": [
    {
     "name": "stdout",
     "output_type": "stream",
     "text": [
      "Working on MOKAU\n",
      "\n"
     ]
    },
    {
     "ename": "TypeError",
     "evalue": "'module' object is not callable",
     "output_type": "error",
     "traceback": [
      "\u001b[1;31m---------------------------------------------------------------------------\u001b[0m",
      "\u001b[1;31mTypeError\u001b[0m                                 Traceback (most recent call last)",
      "\u001b[1;31mTypeError\u001b[0m: 'module' object is not callable"
     ]
    },
    {
     "ename": "TypeError",
     "evalue": "'module' object is not callable",
     "output_type": "error",
     "traceback": [
      "\u001b[1;31m---------------------------------------------------------------------------\u001b[0m",
      "\u001b[1;31mTypeError\u001b[0m                                 Traceback (most recent call last)",
      "\u001b[1;31mTypeError\u001b[0m: 'module' object is not callable"
     ]
    },
    {
     "ename": "TypeError",
     "evalue": "'module' object is not callable",
     "output_type": "error",
     "traceback": [
      "\u001b[1;31m---------------------------------------------------------------------------\u001b[0m",
      "\u001b[1;31mTypeError\u001b[0m                                 Traceback (most recent call last)",
      "\u001b[1;31mTypeError\u001b[0m: 'module' object is not callable"
     ]
    },
    {
     "ename": "TypeError",
     "evalue": "'module' object is not callable",
     "output_type": "error",
     "traceback": [
      "\u001b[1;31m---------------------------------------------------------------------------\u001b[0m",
      "\u001b[1;31mTypeError\u001b[0m                                 Traceback (most recent call last)",
      "\u001b[1;31mTypeError\u001b[0m: 'module' object is not callable"
     ]
    },
    {
     "ename": "TypeError",
     "evalue": "'module' object is not callable",
     "output_type": "error",
     "traceback": [
      "\u001b[1;31m---------------------------------------------------------------------------\u001b[0m",
      "\u001b[1;31mTypeError\u001b[0m                                 Traceback (most recent call last)",
      "\u001b[1;31mTypeError\u001b[0m: 'module' object is not callable"
     ]
    },
    {
     "ename": "ExecuteError",
     "evalue": "Failed to execute. Parameters are not valid.\nERROR 000816: The tool is not valid.\nFailed to execute (Forest).\n",
     "output_type": "error",
     "traceback": [
      "\u001b[1;31m---------------------------------------------------------------------------\u001b[0m",
      "\u001b[1;31mExecuteError\u001b[0m                              Traceback (most recent call last)",
      "\u001b[1;32m~\\AppData\\Local\\Temp\\ipykernel_13192\\3066229463.py\u001b[0m in \u001b[0;36m<cell line: 7>\u001b[1;34m()\u001b[0m\n\u001b[0;32m     42\u001b[0m \u001b[1;33m\u001b[0m\u001b[0m\n\u001b[0;32m     43\u001b[0m \u001b[1;33m\u001b[0m\u001b[0m\n\u001b[1;32m---> 44\u001b[1;33m     stats.Forest(prediction_type, in_features, variable_predict, treat_variable_as_categorical,\n\u001b[0m\u001b[0;32m     45\u001b[0m                         \u001b[0mexplanatory_variables\u001b[0m\u001b[1;33m,\u001b[0m \u001b[0mdistance_features\u001b[0m\u001b[1;33m,\u001b[0m \u001b[0mexplanatory_rasters\u001b[0m\u001b[1;33m,\u001b[0m \u001b[0mfeatures_to_predict\u001b[0m\u001b[1;33m,\u001b[0m \u001b[0moutput_features\u001b[0m\u001b[1;33m,\u001b[0m\u001b[1;33m\u001b[0m\u001b[1;33m\u001b[0m\u001b[0m\n\u001b[0;32m     46\u001b[0m                         \u001b[0moutput_raster\u001b[0m\u001b[1;33m,\u001b[0m \u001b[0mexplanatory_variable_matching\u001b[0m\u001b[1;33m,\u001b[0m \u001b[0mexplanatory_distance_matching\u001b[0m\u001b[1;33m,\u001b[0m \u001b[0mexplanatory_rasters_matching\u001b[0m\u001b[1;33m,\u001b[0m\u001b[1;33m\u001b[0m\u001b[1;33m\u001b[0m\u001b[0m\n",
      "\u001b[1;32mC:\\Program Files\\ArcGIS\\Pro\\Resources\\ArcPy\\arcpy\\stats.py\u001b[0m in \u001b[0;36mForest\u001b[1;34m(prediction_type, in_features, variable_predict, treat_variable_as_categorical, explanatory_variables, distance_features, explanatory_rasters, features_to_predict, output_features, output_raster, explanatory_variable_matching, explanatory_distance_matching, explanatory_rasters_matching, output_trained_features, output_importance_table, use_raster_values, number_of_trees, minimum_leaf_size, maximum_depth, sample_size, random_variables, percentage_for_training, output_classification_table, output_validation_table, compensate_sparse_categories, number_validation_runs, calculate_uncertainty, output_trained_model)\u001b[0m\n\u001b[0;32m   2864\u001b[0m         \u001b[1;32mreturn\u001b[0m \u001b[0mretval\u001b[0m\u001b[1;33m\u001b[0m\u001b[1;33m\u001b[0m\u001b[0m\n\u001b[0;32m   2865\u001b[0m     \u001b[1;32mexcept\u001b[0m \u001b[0mException\u001b[0m \u001b[1;32mas\u001b[0m \u001b[0me\u001b[0m\u001b[1;33m:\u001b[0m\u001b[1;33m\u001b[0m\u001b[1;33m\u001b[0m\u001b[0m\n\u001b[1;32m-> 2866\u001b[1;33m         \u001b[1;32mraise\u001b[0m \u001b[0me\u001b[0m\u001b[1;33m\u001b[0m\u001b[1;33m\u001b[0m\u001b[0m\n\u001b[0m\u001b[0;32m   2867\u001b[0m \u001b[1;33m\u001b[0m\u001b[0m\n\u001b[0;32m   2868\u001b[0m \u001b[1;33m@\u001b[0m\u001b[0mgptooldoc\u001b[0m\u001b[1;33m(\u001b[0m\u001b[1;34m'GWR_stats'\u001b[0m\u001b[1;33m,\u001b[0m \u001b[1;32mNone\u001b[0m\u001b[1;33m)\u001b[0m\u001b[1;33m\u001b[0m\u001b[1;33m\u001b[0m\u001b[0m\n",
      "\u001b[1;32mC:\\Program Files\\ArcGIS\\Pro\\Resources\\ArcPy\\arcpy\\stats.py\u001b[0m in \u001b[0;36mForest\u001b[1;34m(prediction_type, in_features, variable_predict, treat_variable_as_categorical, explanatory_variables, distance_features, explanatory_rasters, features_to_predict, output_features, output_raster, explanatory_variable_matching, explanatory_distance_matching, explanatory_rasters_matching, output_trained_features, output_importance_table, use_raster_values, number_of_trees, minimum_leaf_size, maximum_depth, sample_size, random_variables, percentage_for_training, output_classification_table, output_validation_table, compensate_sparse_categories, number_validation_runs, calculate_uncertainty, output_trained_model)\u001b[0m\n\u001b[0;32m   2861\u001b[0m     \u001b[1;32mfrom\u001b[0m \u001b[0marcpy\u001b[0m\u001b[1;33m.\u001b[0m\u001b[0marcobjects\u001b[0m\u001b[1;33m.\u001b[0m\u001b[0marcobjectconversion\u001b[0m \u001b[1;32mimport\u001b[0m \u001b[0mconvertArcObjectToPythonObject\u001b[0m\u001b[1;33m\u001b[0m\u001b[1;33m\u001b[0m\u001b[0m\n\u001b[0;32m   2862\u001b[0m     \u001b[1;32mtry\u001b[0m\u001b[1;33m:\u001b[0m\u001b[1;33m\u001b[0m\u001b[1;33m\u001b[0m\u001b[0m\n\u001b[1;32m-> 2863\u001b[1;33m         \u001b[0mretval\u001b[0m \u001b[1;33m=\u001b[0m \u001b[0mconvertArcObjectToPythonObject\u001b[0m\u001b[1;33m(\u001b[0m\u001b[0mgp\u001b[0m\u001b[1;33m.\u001b[0m\u001b[0mForest_stats\u001b[0m\u001b[1;33m(\u001b[0m\u001b[1;33m*\u001b[0m\u001b[0mgp_fixargs\u001b[0m\u001b[1;33m(\u001b[0m\u001b[1;33m(\u001b[0m\u001b[0mprediction_type\u001b[0m\u001b[1;33m,\u001b[0m \u001b[0min_features\u001b[0m\u001b[1;33m,\u001b[0m \u001b[0mvariable_predict\u001b[0m\u001b[1;33m,\u001b[0m \u001b[0mtreat_variable_as_categorical\u001b[0m\u001b[1;33m,\u001b[0m \u001b[0mexplanatory_variables\u001b[0m\u001b[1;33m,\u001b[0m \u001b[0mdistance_features\u001b[0m\u001b[1;33m,\u001b[0m \u001b[0mexplanatory_rasters\u001b[0m\u001b[1;33m,\u001b[0m \u001b[0mfeatures_to_predict\u001b[0m\u001b[1;33m,\u001b[0m \u001b[0moutput_features\u001b[0m\u001b[1;33m,\u001b[0m \u001b[0moutput_raster\u001b[0m\u001b[1;33m,\u001b[0m \u001b[0mexplanatory_variable_matching\u001b[0m\u001b[1;33m,\u001b[0m \u001b[0mexplanatory_distance_matching\u001b[0m\u001b[1;33m,\u001b[0m \u001b[0mexplanatory_rasters_matching\u001b[0m\u001b[1;33m,\u001b[0m \u001b[0moutput_trained_features\u001b[0m\u001b[1;33m,\u001b[0m \u001b[0moutput_importance_table\u001b[0m\u001b[1;33m,\u001b[0m \u001b[0muse_raster_values\u001b[0m\u001b[1;33m,\u001b[0m \u001b[0mnumber_of_trees\u001b[0m\u001b[1;33m,\u001b[0m \u001b[0mminimum_leaf_size\u001b[0m\u001b[1;33m,\u001b[0m \u001b[0mmaximum_depth\u001b[0m\u001b[1;33m,\u001b[0m \u001b[0msample_size\u001b[0m\u001b[1;33m,\u001b[0m \u001b[0mrandom_variables\u001b[0m\u001b[1;33m,\u001b[0m \u001b[0mpercentage_for_training\u001b[0m\u001b[1;33m,\u001b[0m \u001b[0moutput_classification_table\u001b[0m\u001b[1;33m,\u001b[0m \u001b[0moutput_validation_table\u001b[0m\u001b[1;33m,\u001b[0m \u001b[0mcompensate_sparse_categories\u001b[0m\u001b[1;33m,\u001b[0m \u001b[0mnumber_validation_runs\u001b[0m\u001b[1;33m,\u001b[0m \u001b[0mcalculate_uncertainty\u001b[0m\u001b[1;33m,\u001b[0m \u001b[0moutput_trained_model\u001b[0m\u001b[1;33m)\u001b[0m\u001b[1;33m,\u001b[0m \u001b[1;32mTrue\u001b[0m\u001b[1;33m)\u001b[0m\u001b[1;33m)\u001b[0m\u001b[1;33m)\u001b[0m\u001b[1;33m\u001b[0m\u001b[1;33m\u001b[0m\u001b[0m\n\u001b[0m\u001b[0;32m   2864\u001b[0m         \u001b[1;32mreturn\u001b[0m \u001b[0mretval\u001b[0m\u001b[1;33m\u001b[0m\u001b[1;33m\u001b[0m\u001b[0m\n\u001b[0;32m   2865\u001b[0m     \u001b[1;32mexcept\u001b[0m \u001b[0mException\u001b[0m \u001b[1;32mas\u001b[0m \u001b[0me\u001b[0m\u001b[1;33m:\u001b[0m\u001b[1;33m\u001b[0m\u001b[1;33m\u001b[0m\u001b[0m\n",
      "\u001b[1;32mC:\\Program Files\\ArcGIS\\Pro\\Resources\\ArcPy\\arcpy\\geoprocessing\\_base.py\u001b[0m in \u001b[0;36m<lambda>\u001b[1;34m(*args)\u001b[0m\n\u001b[0;32m    510\u001b[0m         \u001b[0mval\u001b[0m \u001b[1;33m=\u001b[0m \u001b[0mgetattr\u001b[0m\u001b[1;33m(\u001b[0m\u001b[0mself\u001b[0m\u001b[1;33m.\u001b[0m\u001b[0m_gp\u001b[0m\u001b[1;33m,\u001b[0m \u001b[0mattr\u001b[0m\u001b[1;33m)\u001b[0m\u001b[1;33m\u001b[0m\u001b[1;33m\u001b[0m\u001b[0m\n\u001b[0;32m    511\u001b[0m         \u001b[1;32mif\u001b[0m \u001b[0mcallable\u001b[0m\u001b[1;33m(\u001b[0m\u001b[0mval\u001b[0m\u001b[1;33m)\u001b[0m\u001b[1;33m:\u001b[0m\u001b[1;33m\u001b[0m\u001b[1;33m\u001b[0m\u001b[0m\n\u001b[1;32m--> 512\u001b[1;33m             \u001b[1;32mreturn\u001b[0m \u001b[1;32mlambda\u001b[0m \u001b[1;33m*\u001b[0m\u001b[0margs\u001b[0m\u001b[1;33m:\u001b[0m \u001b[0mval\u001b[0m\u001b[1;33m(\u001b[0m\u001b[1;33m*\u001b[0m\u001b[0mgp_fixargs\u001b[0m\u001b[1;33m(\u001b[0m\u001b[0margs\u001b[0m\u001b[1;33m,\u001b[0m \u001b[1;32mTrue\u001b[0m\u001b[1;33m)\u001b[0m\u001b[1;33m)\u001b[0m\u001b[1;33m\u001b[0m\u001b[1;33m\u001b[0m\u001b[0m\n\u001b[0m\u001b[0;32m    513\u001b[0m         \u001b[1;32melse\u001b[0m\u001b[1;33m:\u001b[0m\u001b[1;33m\u001b[0m\u001b[1;33m\u001b[0m\u001b[0m\n\u001b[0;32m    514\u001b[0m             \u001b[1;32mreturn\u001b[0m \u001b[0mconvertArcObjectToPythonObject\u001b[0m\u001b[1;33m(\u001b[0m\u001b[0mval\u001b[0m\u001b[1;33m)\u001b[0m\u001b[1;33m\u001b[0m\u001b[1;33m\u001b[0m\u001b[0m\n",
      "\u001b[1;31mExecuteError\u001b[0m: Failed to execute. Parameters are not valid.\nERROR 000816: The tool is not valid.\nFailed to execute (Forest).\n"
     ]
    }
   ],
   "source": [
    "import arcpy\n",
    "from arcpy import *\n",
    "env.overwriteOutput = True\n",
    "\n",
    "locations = ['MOKAU']\n",
    "\n",
    "for location in locations:\n",
    "    print('Working on '+location+'\\n')\n",
    "    output_dir = \"D:\\\\WHITEBAIT\\\\\"+location+\"\\\\OUTPUT\\\\\"\n",
    "\n",
    "    prediction_type = 'PREDICT_FEATURES'\n",
    "    in_features = \"D:\\\\WHITEBAIT\\\\PORT_WAIKATO\\\\OUTPUT\\\\SPAWNING_RECORD.shp\"\n",
    "    variable_predict = 'Spawning'\n",
    "    treat_variable_as_categorical = 'CATEGORICAL'\n",
    "    explanatory_variables = [[\"EVI\", \"false\"], [\"GCI\", \"false\"], [\"GLI\", \"false\"], [\"NDVI\", \"false\"], [\"NDWI\", \"false\"], \n",
    "                             [\"SAVI\", \"false\"], [\"SLOPE\", \"false\"], [\"TWI\", \"false\"], [\"VEGE_HEIGH\", \"false\"], \n",
    "                             [\"TIDAL_DEPT\", \"false\"], [\"DIS_FMTIDE\",\"false\"]]\n",
    "    distance_features = None\n",
    "    explanatory_rasters = None\n",
    "    features_to_predict = output_dir + \"POTENTIAL_SITE_INPOINT.shp\"\n",
    "    output_features = output_dir + \"FBCR_PREDICTED_SITE.shp\"\n",
    "    output_raster = None\n",
    "    explanatory_variable_matching = None\n",
    "    explanatory_distance_matching = None\n",
    "    explanatory_rasters_matching = None\n",
    "    output_trained_features = output_dir + \"FBCR_TRAINEDFEATURE.shp\"\n",
    "    output_importance_table = output_dir + \"FBCR_VARIABLEIMPORTANCE.dbf\"\n",
    "    use_raster_values = False\n",
    "    number_of_trees = 300\n",
    "    minimum_leaf_size = None\n",
    "    maximum_depth = 30\n",
    "    sample_size = None\n",
    "    random_variables = None\n",
    "    percentage_for_training = None\n",
    "    output_classification_table = output_dir + \"FBCR_CLASSTABLE.dbf\"\n",
    "    output_validation_table = output_dir + \"FBCR_VALIDATIONTABLE.dbf\"\n",
    "    compensate_sparse_categories = None\n",
    "    number_validation_runs = None\n",
    "    calculate_uncertainty = None\n",
    "    output_trained_model = \"D:\\\\PORT_WAIKATO\\\\OUTPUT\\\\FBCR_TRAINEDMODEL.ssm\"\n",
    "    #stats.DescribeSSMFile(output_trained_model)\n",
    "\n",
    "    \n",
    "    stats.Forest(prediction_type, in_features, variable_predict, treat_variable_as_categorical,\n",
    "                        explanatory_variables, distance_features, explanatory_rasters, features_to_predict, output_features,\n",
    "                        output_raster, explanatory_variable_matching, explanatory_distance_matching, explanatory_rasters_matching,\n",
    "                        output_trained_features, output_importance_table, use_raster_values, number_of_trees, \n",
    "                        minimum_leaf_size, maximum_depth, sample_size, random_variables, percentage_for_training, \n",
    "                        output_classification_table, output_validation_table, compensate_sparse_categories, \n",
    "                        number_validation_runs, calculate_uncertainty, output_trained_model) \n",
    "    "
   ]
  },
  {
   "cell_type": "code",
   "execution_count": null,
   "id": "972e9a2f",
   "metadata": {},
   "outputs": [],
   "source": []
  },
  {
   "cell_type": "code",
   "execution_count": null,
   "id": "e8ebb52f",
   "metadata": {},
   "outputs": [],
   "source": []
  }
 ],
 "metadata": {
  "kernelspec": {
   "display_name": "Python [conda env:.conda-ppy32] *",
   "language": "python",
   "name": "conda-env-.conda-ppy32-py"
  },
  "language_info": {
   "codemirror_mode": {
    "name": "ipython",
    "version": 3
   },
   "file_extension": ".py",
   "mimetype": "text/x-python",
   "name": "python",
   "nbconvert_exporter": "python",
   "pygments_lexer": "ipython3",
   "version": "3.9.16"
  }
 },
 "nbformat": 4,
 "nbformat_minor": 5
}
