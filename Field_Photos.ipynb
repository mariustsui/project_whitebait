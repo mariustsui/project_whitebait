{
 "cells": [
  {
   "cell_type": "code",
   "execution_count": 1,
   "id": "86f30979",
   "metadata": {},
   "outputs": [],
   "source": [
    "# import the GIS class in gis module\n",
    "from arcgis import GIS\n",
    "from arcpy import *\n",
    "from arcpy.sa import *\n",
    "from arcpy.ia import *\n",
    "import arcpy\n",
    "import os\n",
    "from PIL import Image\n",
    "from PIL.ExifTags import TAGS, GPSTAGS\n",
    "\n",
    "# Setting up working environmentb\n",
    "env.workspace = \"C:\\\\Users\\\\mariu\\\\Documents\\\\ArcGIS\\\\Projects\\\\NEW_PORTWAIKATO2\\\\NEW_PORTWAIKATO2.gdb\"\n",
    "env.overwriteOutput = True\n",
    "env.parallelProcessingFactor = \"90%\"\n"
   ]
  },
  {
   "cell_type": "code",
   "execution_count": 2,
   "id": "1ae7df88",
   "metadata": {},
   "outputs": [],
   "source": [
    "def get_geotagging(exif):\n",
    "    if not exif:\n",
    "        raise ValueError(\"No EXIF metadata found\")\n",
    "\n",
    "    geotagging = {}\n",
    "    for (tag, value) in exif.items():\n",
    "        \n",
    "        tag_name = TAGS.get(tag, tag)\n",
    "        \n",
    "        if tag_name == \"GPSInfo\":\n",
    "            for (key, val) in GPSTAGS.items():\n",
    "                if key in value:\n",
    "                    geotagging[val] = value[key]\n",
    "    return geotagging\n",
    "\n",
    "def get_decimal_from_dms(dms, ref):\n",
    "    degrees = dms[0]\n",
    "    minutes = dms[1]\n",
    "    seconds = dms[2]\n",
    "    decimal = degrees + (minutes / 60.0) + (seconds / 3600.0)\n",
    "\n",
    "    if ref in ['S', 'W']:\n",
    "        decimal = -decimal\n",
    "\n",
    "    return decimal\n",
    "\n",
    "def get_coordinates(geotags):\n",
    "    if geotags['GPSLatitude']:\n",
    "        lat = get_decimal_from_dms(geotags['GPSLatitude'], geotags['GPSLatitudeRef'])\n",
    "        lon = get_decimal_from_dms(geotags['GPSLongitude'], geotags['GPSLongitudeRef'])\n",
    "        return lat, lon\n",
    "    else:\n",
    "        raise ValueError(\"No GPS coordinates found in the image.\")\n",
    "\n",
    "def get_gps_location(image_path):\n",
    "    try:\n",
    "        image = Image.open(image_path)\n",
    "        exif_data = image._getexif()\n",
    "        geotags = get_geotagging(exif_data)\n",
    "        if geotags:\n",
    "            return get_coordinates(geotags)\n",
    "        else:\n",
    "            raise ValueError(\"No GPS coordinates found in the image.\")\n",
    "    except Exception as e:\n",
    "        #print(f\"Error: {e}\")\n",
    "        return None\n",
    "\n",
    "def process_images_in_folder(folder_path):\n",
    "    \n",
    "    image_files = [f for f in os.listdir(folder_path) if os.path.isfile(os.path.join(folder_path, f))]\n",
    "    for image_file in image_files:\n",
    "        image_path = os.path.join(folder_path, image_file)\n",
    "        coordinates = get_gps_location(image_path)\n",
    "        if coordinates:\n",
    "            #print(f\"Image: {image_file}, Latitude: {coordinates[0]}, Longitude: {coordinates[1]}\")\n",
    "            row_value  = (image_file, (coordinates[0],coordinates[1] ))\n",
    "            rows.append(row_value)"
   ]
  },
  {
   "cell_type": "code",
   "execution_count": 3,
   "id": "a3173f9a",
   "metadata": {},
   "outputs": [],
   "source": [
    "def addPointtoFeature():\n",
    "    \n",
    "    arcpy.DeleteRows_management(table)\n",
    "    \n",
    "    for row in rows:\n",
    "        y = row[1][0]\n",
    "        x = row[1][1]\n",
    "        filename = row[0]\n",
    "\n",
    "        with arcpy.da.InsertCursor(table, ['FILENAME', 'X','Y'],) as cursor:\n",
    "            cursor.insertRow([filename, x, y])\n",
    "        \n",
    "    print(\"Point added successfully.\")"
   ]
  },
  {
   "cell_type": "code",
   "execution_count": 4,
   "id": "e5a42af9",
   "metadata": {},
   "outputs": [
    {
     "name": "stdout",
     "output_type": "stream",
     "text": [
      "Point added successfully.\n"
     ]
    },
    {
     "data": {
      "text/html": [
       "<div class='gpresult'><h2>Messages</h2><div id='messages' data-messages='[\"Start Time: Tuesday, 8 August 2023 9:40:52 am\",\"Succeeded at Tuesday, 8 August 2023 9:40:53 am (Elapsed Time: 0.73 seconds)\"]' data-show='true'><div id = 'default' /></div></div>"
      ],
      "text/plain": [
       "<Result 'C:\\\\Users\\\\mariu\\\\Documents\\\\ArcGIS\\\\Projects\\\\NEW_PORTWAIKATO2\\\\NEW_PORTWAIKATO2.gdb\\\\field_photos'>"
      ]
     },
     "execution_count": 4,
     "metadata": {},
     "output_type": "execute_result"
    }
   ],
   "source": [
    "# Example usage\n",
    "rows = []\n",
    "\n",
    "# Define the name of the new table\n",
    "tablename = 'field_photo_location.dbf'\n",
    "\n",
    "# Define the field names and data types for the table\n",
    "# Format: field_name, field_data_type\n",
    "fields = [('FILENAME', 'TEXT'), ('X', 'FLOAT'), ('Y', 'FLOAT')]\n",
    "\n",
    "# Create the table using arcpy.CreateTable_management\n",
    "#arcpy.CreateTable_management('D:\\\\OUTPUT_NP2', tablename)\n",
    "\n",
    "table = \"D:\\\\OUTPUT_NP2\\\\\" + tablename\n",
    "# Add fields to the table using arcpy.AddField_management\n",
    "for field_name, field_data_type in fields:\n",
    "    arcpy.AddField_management(table, field_name, field_data_type)\n",
    "    \n",
    "\n",
    "folder_path = r'D:\\Field_Photo'\n",
    "process_images_in_folder(folder_path)\n",
    "\n",
    "addPointtoFeature()\n",
    "\n",
    "output_feature = 'field_photos'\n",
    "\n",
    "arcpy.management.XYTableToPoint(table, output_feature ,'X', 'Y', None, arcpy.SpatialReference(4167) )\n",
    "\n",
    "\n",
    "inputField = \"FILENAME\"\n",
    "matchTable = output_feature\n",
    "matchField = \"FILENAME\"\n",
    "pathField = \"FILENAME\" \n",
    "picFolder = folder_path\n",
    "\n",
    "arcpy.management.EnableAttachments(output_feature)\n",
    "# use the match table with the Add Attachments tool\n",
    "arcpy.AddAttachments_management(output_feature, inputField, matchTable, matchField, \n",
    "                                pathField, picFolder)"
   ]
  }
 ],
 "metadata": {
  "kernelspec": {
   "display_name": "Python 3 (ipykernel)",
   "language": "python",
   "name": "python3"
  },
  "language_info": {
   "codemirror_mode": {
    "name": "ipython",
    "version": 3
   },
   "file_extension": ".py",
   "mimetype": "text/x-python",
   "name": "python",
   "nbconvert_exporter": "python",
   "pygments_lexer": "ipython3",
   "version": "3.9.16"
  }
 },
 "nbformat": 4,
 "nbformat_minor": 5
}
