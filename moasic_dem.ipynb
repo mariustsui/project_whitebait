{
 "cells": [
  {
   "cell_type": "code",
   "execution_count": 4,
   "id": "316b94cf",
   "metadata": {},
   "outputs": [
    {
     "name": "stderr",
     "output_type": "stream",
     "text": [
      "100%|██████████████████████████████████████████████████████████████████████████████████| 30/30 [00:00<00:00, 53.65it/s]\n",
      "100%|██████████████████████████████████████████████████████████████████████████████████| 30/30 [00:00<00:00, 52.08it/s]\n"
     ]
    },
    {
     "name": "stdout",
     "output_type": "stream",
     "text": [
      "All done\n"
     ]
    }
   ],
   "source": [
    "# Import required libraries\n",
    "import arcpy\n",
    "import tqdm\n",
    "import re\n",
    "from arcpy import *\n",
    "from arcpy.sa import *\n",
    "from arcpy.ia import *\n",
    "from arcpy.conversion import *\n",
    "from tqdm import tqdm\n",
    "import shutil\n",
    "import os\n",
    "import math\n",
    "import gc\n",
    "import glob\n",
    "\n",
    "env.overwriteOutput = True\n",
    "\n",
    "# Reading all the required file name from an index file\n",
    "tile_index = r'C:\\Users\\mariu\\Downloads\\lds-waikato-region-3layers-GTiff-SHP\\waikato-west-coast-and-hauraki-plains-lidar-index-tiles-2015\\waikato-west-coast-and-hauraki-plains-lidar-index-tiles-2015.shp' # source file containing required DEM and DSM file name and a defined study area\n",
    "rows = SearchCursor(tile_index)   \n",
    "file_list = []   # Put all required file name into a list\n",
    "for row in rows:\n",
    "    b = row.getValue('NAME')\n",
    "\n",
    "    file_list.append(b)\n",
    "    \n",
    "\n",
    "img_list = []\n",
    "for i in tqdm(range(len(file_list))):\n",
    "    source_img = r'C:\\Users\\mariu\\Downloads\\lds-waikato-region-3layers-GTiff-SHP\\waikato-west-coast-and-hauraki-plains-lidar-1m-dem-2015\\DEM_'+file_list[i]+'.tif'\n",
    "    img_list.append(source_img)\n",
    "    del(source_img)\n",
    "    gc.collect()\n",
    "    \n",
    "\n",
    "arcpy.management.Mosaic(img_list, r'C:\\Users\\mariu\\Downloads\\lds-waikato-region-3layers-GTiff-SHP\\waikato-west-coast-and-hauraki-plains-lidar-1m-dem-2015\\DEM_'+file_list[0]+'.tif', 'FIRST')\n",
    "DEM = ExtractByMask(r'C:\\Users\\mariu\\Downloads\\lds-waikato-region-3layers-GTiff-SHP\\waikato-west-coast-and-hauraki-plains-lidar-1m-dem-2015\\DEM_'+file_list[0]+'.tif', tile_index, \"INSIDE\")\n",
    "DEM.save('D:\\\\MOKAU\\\\SOURCE\\\\DEM.tif')\n",
    "\n",
    "del(DEM, img_list)\n",
    "    \n",
    "img_list = []\n",
    "for i in tqdm(range(len(file_list))):\n",
    "    source_img = r'C:\\Users\\mariu\\Downloads\\lds-waikato-region-3layers-GTiff-SHP\\waikato-west-coast-and-hauraki-plains-lidar-1m-dsm-2015\\DSM_'+file_list[i]+'.tif'\n",
    "    img_list.append(source_img)\n",
    "    del(source_img)\n",
    "    gc.collect()\n",
    "    \n",
    "\n",
    "arcpy.management.Mosaic(img_list, r'C:\\Users\\mariu\\Downloads\\lds-waikato-region-3layers-GTiff-SHP\\waikato-west-coast-and-hauraki-plains-lidar-1m-dsm-2015\\DSM_'+file_list[0]+'.tif', 'FIRST')\n",
    "DSM = ExtractByMask(r'C:\\Users\\mariu\\Downloads\\lds-waikato-region-3layers-GTiff-SHP\\waikato-west-coast-and-hauraki-plains-lidar-1m-dsm-2015\\DSM_'+file_list[0]+'.tif', tile_index, \"INSIDE\")\n",
    "DSM.save('D:\\\\MOKAU\\\\SOURCE\\\\DSM.tif')\n",
    "del(DSM, img_list)\n",
    "print('All done')"
   ]
  }
 ],
 "metadata": {
  "kernelspec": {
   "display_name": "Python 3 (ipykernel)",
   "language": "python",
   "name": "python3"
  },
  "language_info": {
   "codemirror_mode": {
    "name": "ipython",
    "version": 3
   },
   "file_extension": ".py",
   "mimetype": "text/x-python",
   "name": "python",
   "nbconvert_exporter": "python",
   "pygments_lexer": "ipython3",
   "version": "3.9.16"
  }
 },
 "nbformat": 4,
 "nbformat_minor": 5
}
